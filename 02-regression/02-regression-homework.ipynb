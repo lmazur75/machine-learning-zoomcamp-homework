{
 "cells": [
  {
   "cell_type": "code",
   "execution_count": 53,
   "id": "e8d5f0a9",
   "metadata": {},
   "outputs": [],
   "source": [
    "import pandas as pd\n",
    "import numpy as np\n",
    "import matplotlib.pyplot as plt\n",
    "import seaborn as sns"
   ]
  },
  {
   "cell_type": "code",
   "execution_count": 54,
   "id": "af2cd0cb",
   "metadata": {},
   "outputs": [],
   "source": [
    "df = pd.read_csv('https://raw.githubusercontent.com/alexeygrigorev/datasets/master/car_fuel_efficiency.csv')"
   ]
  },
  {
   "cell_type": "code",
   "execution_count": 55,
   "id": "62058468",
   "metadata": {},
   "outputs": [
    {
     "data": {
      "text/html": [
       "<div>\n",
       "<style scoped>\n",
       "    .dataframe tbody tr th:only-of-type {\n",
       "        vertical-align: middle;\n",
       "    }\n",
       "\n",
       "    .dataframe tbody tr th {\n",
       "        vertical-align: top;\n",
       "    }\n",
       "\n",
       "    .dataframe thead th {\n",
       "        text-align: right;\n",
       "    }\n",
       "</style>\n",
       "<table border=\"1\" class=\"dataframe\">\n",
       "  <thead>\n",
       "    <tr style=\"text-align: right;\">\n",
       "      <th></th>\n",
       "      <th>engine_displacement</th>\n",
       "      <th>num_cylinders</th>\n",
       "      <th>horsepower</th>\n",
       "      <th>vehicle_weight</th>\n",
       "      <th>acceleration</th>\n",
       "      <th>model_year</th>\n",
       "      <th>origin</th>\n",
       "      <th>fuel_type</th>\n",
       "      <th>drivetrain</th>\n",
       "      <th>num_doors</th>\n",
       "      <th>fuel_efficiency_mpg</th>\n",
       "    </tr>\n",
       "  </thead>\n",
       "  <tbody>\n",
       "    <tr>\n",
       "      <th>0</th>\n",
       "      <td>170</td>\n",
       "      <td>3.0</td>\n",
       "      <td>159.0</td>\n",
       "      <td>3413.433759</td>\n",
       "      <td>17.7</td>\n",
       "      <td>2003</td>\n",
       "      <td>Europe</td>\n",
       "      <td>Gasoline</td>\n",
       "      <td>All-wheel drive</td>\n",
       "      <td>0.0</td>\n",
       "      <td>13.231729</td>\n",
       "    </tr>\n",
       "    <tr>\n",
       "      <th>1</th>\n",
       "      <td>130</td>\n",
       "      <td>5.0</td>\n",
       "      <td>97.0</td>\n",
       "      <td>3149.664934</td>\n",
       "      <td>17.8</td>\n",
       "      <td>2007</td>\n",
       "      <td>USA</td>\n",
       "      <td>Gasoline</td>\n",
       "      <td>Front-wheel drive</td>\n",
       "      <td>0.0</td>\n",
       "      <td>13.688217</td>\n",
       "    </tr>\n",
       "    <tr>\n",
       "      <th>2</th>\n",
       "      <td>170</td>\n",
       "      <td>NaN</td>\n",
       "      <td>78.0</td>\n",
       "      <td>3079.038997</td>\n",
       "      <td>15.1</td>\n",
       "      <td>2018</td>\n",
       "      <td>Europe</td>\n",
       "      <td>Gasoline</td>\n",
       "      <td>Front-wheel drive</td>\n",
       "      <td>0.0</td>\n",
       "      <td>14.246341</td>\n",
       "    </tr>\n",
       "    <tr>\n",
       "      <th>3</th>\n",
       "      <td>220</td>\n",
       "      <td>4.0</td>\n",
       "      <td>NaN</td>\n",
       "      <td>2542.392402</td>\n",
       "      <td>20.2</td>\n",
       "      <td>2009</td>\n",
       "      <td>USA</td>\n",
       "      <td>Diesel</td>\n",
       "      <td>All-wheel drive</td>\n",
       "      <td>2.0</td>\n",
       "      <td>16.912736</td>\n",
       "    </tr>\n",
       "    <tr>\n",
       "      <th>4</th>\n",
       "      <td>210</td>\n",
       "      <td>1.0</td>\n",
       "      <td>140.0</td>\n",
       "      <td>3460.870990</td>\n",
       "      <td>14.4</td>\n",
       "      <td>2009</td>\n",
       "      <td>Europe</td>\n",
       "      <td>Gasoline</td>\n",
       "      <td>All-wheel drive</td>\n",
       "      <td>2.0</td>\n",
       "      <td>12.488369</td>\n",
       "    </tr>\n",
       "  </tbody>\n",
       "</table>\n",
       "</div>"
      ],
      "text/plain": [
       "   engine_displacement  num_cylinders  horsepower  vehicle_weight  \\\n",
       "0                  170            3.0       159.0     3413.433759   \n",
       "1                  130            5.0        97.0     3149.664934   \n",
       "2                  170            NaN        78.0     3079.038997   \n",
       "3                  220            4.0         NaN     2542.392402   \n",
       "4                  210            1.0       140.0     3460.870990   \n",
       "\n",
       "   acceleration  model_year  origin fuel_type         drivetrain  num_doors  \\\n",
       "0          17.7        2003  Europe  Gasoline    All-wheel drive        0.0   \n",
       "1          17.8        2007     USA  Gasoline  Front-wheel drive        0.0   \n",
       "2          15.1        2018  Europe  Gasoline  Front-wheel drive        0.0   \n",
       "3          20.2        2009     USA    Diesel    All-wheel drive        2.0   \n",
       "4          14.4        2009  Europe  Gasoline    All-wheel drive        2.0   \n",
       "\n",
       "   fuel_efficiency_mpg  \n",
       "0            13.231729  \n",
       "1            13.688217  \n",
       "2            14.246341  \n",
       "3            16.912736  \n",
       "4            12.488369  "
      ]
     },
     "execution_count": 55,
     "metadata": {},
     "output_type": "execute_result"
    }
   ],
   "source": [
    "df.head()"
   ]
  },
  {
   "cell_type": "code",
   "execution_count": 56,
   "id": "03f554b1",
   "metadata": {},
   "outputs": [],
   "source": [
    "df.columns = df.columns.str.lower().str.replace(' ','_')"
   ]
  },
  {
   "cell_type": "code",
   "execution_count": 57,
   "id": "58403d64",
   "metadata": {},
   "outputs": [],
   "source": [
    "strings_columns = list(df.dtypes[df.dtypes == 'object'].index)"
   ]
  },
  {
   "cell_type": "code",
   "execution_count": 58,
   "id": "9c2452b2",
   "metadata": {},
   "outputs": [],
   "source": [
    "for col in strings_columns:\n",
    "    df[col] = df[col].str.lower().str.replace(' ','_')"
   ]
  },
  {
   "cell_type": "code",
   "execution_count": 59,
   "id": "66f94bb9",
   "metadata": {},
   "outputs": [
    {
     "data": {
      "text/html": [
       "<div>\n",
       "<style scoped>\n",
       "    .dataframe tbody tr th:only-of-type {\n",
       "        vertical-align: middle;\n",
       "    }\n",
       "\n",
       "    .dataframe tbody tr th {\n",
       "        vertical-align: top;\n",
       "    }\n",
       "\n",
       "    .dataframe thead th {\n",
       "        text-align: right;\n",
       "    }\n",
       "</style>\n",
       "<table border=\"1\" class=\"dataframe\">\n",
       "  <thead>\n",
       "    <tr style=\"text-align: right;\">\n",
       "      <th></th>\n",
       "      <th>engine_displacement</th>\n",
       "      <th>num_cylinders</th>\n",
       "      <th>horsepower</th>\n",
       "      <th>vehicle_weight</th>\n",
       "      <th>acceleration</th>\n",
       "      <th>model_year</th>\n",
       "      <th>origin</th>\n",
       "      <th>fuel_type</th>\n",
       "      <th>drivetrain</th>\n",
       "      <th>num_doors</th>\n",
       "      <th>fuel_efficiency_mpg</th>\n",
       "    </tr>\n",
       "  </thead>\n",
       "  <tbody>\n",
       "    <tr>\n",
       "      <th>0</th>\n",
       "      <td>170</td>\n",
       "      <td>3.0</td>\n",
       "      <td>159.0</td>\n",
       "      <td>3413.433759</td>\n",
       "      <td>17.7</td>\n",
       "      <td>2003</td>\n",
       "      <td>europe</td>\n",
       "      <td>gasoline</td>\n",
       "      <td>all-wheel_drive</td>\n",
       "      <td>0.0</td>\n",
       "      <td>13.231729</td>\n",
       "    </tr>\n",
       "    <tr>\n",
       "      <th>1</th>\n",
       "      <td>130</td>\n",
       "      <td>5.0</td>\n",
       "      <td>97.0</td>\n",
       "      <td>3149.664934</td>\n",
       "      <td>17.8</td>\n",
       "      <td>2007</td>\n",
       "      <td>usa</td>\n",
       "      <td>gasoline</td>\n",
       "      <td>front-wheel_drive</td>\n",
       "      <td>0.0</td>\n",
       "      <td>13.688217</td>\n",
       "    </tr>\n",
       "    <tr>\n",
       "      <th>2</th>\n",
       "      <td>170</td>\n",
       "      <td>NaN</td>\n",
       "      <td>78.0</td>\n",
       "      <td>3079.038997</td>\n",
       "      <td>15.1</td>\n",
       "      <td>2018</td>\n",
       "      <td>europe</td>\n",
       "      <td>gasoline</td>\n",
       "      <td>front-wheel_drive</td>\n",
       "      <td>0.0</td>\n",
       "      <td>14.246341</td>\n",
       "    </tr>\n",
       "    <tr>\n",
       "      <th>3</th>\n",
       "      <td>220</td>\n",
       "      <td>4.0</td>\n",
       "      <td>NaN</td>\n",
       "      <td>2542.392402</td>\n",
       "      <td>20.2</td>\n",
       "      <td>2009</td>\n",
       "      <td>usa</td>\n",
       "      <td>diesel</td>\n",
       "      <td>all-wheel_drive</td>\n",
       "      <td>2.0</td>\n",
       "      <td>16.912736</td>\n",
       "    </tr>\n",
       "    <tr>\n",
       "      <th>4</th>\n",
       "      <td>210</td>\n",
       "      <td>1.0</td>\n",
       "      <td>140.0</td>\n",
       "      <td>3460.870990</td>\n",
       "      <td>14.4</td>\n",
       "      <td>2009</td>\n",
       "      <td>europe</td>\n",
       "      <td>gasoline</td>\n",
       "      <td>all-wheel_drive</td>\n",
       "      <td>2.0</td>\n",
       "      <td>12.488369</td>\n",
       "    </tr>\n",
       "  </tbody>\n",
       "</table>\n",
       "</div>"
      ],
      "text/plain": [
       "   engine_displacement  num_cylinders  horsepower  vehicle_weight  \\\n",
       "0                  170            3.0       159.0     3413.433759   \n",
       "1                  130            5.0        97.0     3149.664934   \n",
       "2                  170            NaN        78.0     3079.038997   \n",
       "3                  220            4.0         NaN     2542.392402   \n",
       "4                  210            1.0       140.0     3460.870990   \n",
       "\n",
       "   acceleration  model_year  origin fuel_type         drivetrain  num_doors  \\\n",
       "0          17.7        2003  europe  gasoline    all-wheel_drive        0.0   \n",
       "1          17.8        2007     usa  gasoline  front-wheel_drive        0.0   \n",
       "2          15.1        2018  europe  gasoline  front-wheel_drive        0.0   \n",
       "3          20.2        2009     usa    diesel    all-wheel_drive        2.0   \n",
       "4          14.4        2009  europe  gasoline    all-wheel_drive        2.0   \n",
       "\n",
       "   fuel_efficiency_mpg  \n",
       "0            13.231729  \n",
       "1            13.688217  \n",
       "2            14.246341  \n",
       "3            16.912736  \n",
       "4            12.488369  "
      ]
     },
     "execution_count": 59,
     "metadata": {},
     "output_type": "execute_result"
    }
   ],
   "source": [
    "df.head()"
   ]
  },
  {
   "cell_type": "markdown",
   "id": "d984a408-bdda-437b-9b75-c6d979a253fa",
   "metadata": {},
   "source": [
    "# EDA"
   ]
  },
  {
   "cell_type": "code",
   "execution_count": 60,
   "id": "d66c7323-a477-48d8-bf68-15a7fa6b2189",
   "metadata": {},
   "outputs": [
    {
     "data": {
      "image/png": "[encoded data removed]",
      "text/plain": [
       "<Figure size 600x400 with 1 Axes>"
      ]
     },
     "metadata": {},
     "output_type": "display_data"
    }
   ],
   "source": [
    "plt.figure(figsize=(6,4))\n",
    "sns.histplot(df.fuel_efficiency_mpg, bins=40, color='red', alpha=1)\n",
    "plt.xlabel('Fuel Efficiency (mpg)')\n",
    "plt.ylabel('Count')\n",
    "plt.title('Distribution of Fuel Efficiency')\n",
    "plt.show()"
   ]
  },
  {
   "cell_type": "markdown",
   "id": "ff6d5583-7e1a-4ea9-ac71-84672105ead1",
   "metadata": {},
   "source": [
    "# Linear Regression"
   ]
  },
  {
   "cell_type": "code",
   "execution_count": 61,
   "id": "ae2f5230-6aa3-4401-ab0e-9dbc6b41b9f7",
   "metadata": {},
   "outputs": [],
   "source": [
    "def train_linear_regression(X, y):\n",
    "    ones = np.ones(X.shape[0])\n",
    "    X = np.column_stack([ones, X])\n",
    "\n",
    "    XTX = X.T.dot(X)\n",
    "    XTX_inv = np.linalg.inv(XTX)\n",
    "    w = XTX_inv.dot(X.T).dot(y)\n",
    "\n",
    "    return w[0], w[1:]"
   ]
  },
  {
   "cell_type": "markdown",
   "id": "dacb4b34-9ceb-450a-a72c-08cd131e436b",
   "metadata": {},
   "source": [
    "# Prepare X"
   ]
  },
  {
   "cell_type": "code",
   "execution_count": 62,
   "id": "87db8c24-2442-4ad0-b83f-691cb81820f4",
   "metadata": {},
   "outputs": [],
   "source": [
    "def prepare_X(df):\n",
    "    df_num = df[base]\n",
    "    df_num = df_num.fillna(0)\n",
    "    X = df_num.values\n",
    "    return X"
   ]
  },
  {
   "cell_type": "markdown",
   "id": "3da98067-2d38-4448-86db-b4b99579b3f6",
   "metadata": {},
   "source": [
    "# RMSE"
   ]
  },
  {
   "cell_type": "code",
   "execution_count": 63,
   "id": "cbd1ecf0-6d9b-4f42-bb67-edb0efc5fd56",
   "metadata": {},
   "outputs": [],
   "source": [
    "def rmse(y, y_pred):\n",
    "    error = y_pred - y\n",
    "    mse = (error ** 2).mean()\n",
    "    return np.sqrt(mse)"
   ]
  },
  {
   "cell_type": "markdown",
   "id": "102fe1dc-a888-4d81-8d42-89865073e7a3",
   "metadata": {},
   "source": [
    "# Regularization"
   ]
  },
  {
   "cell_type": "code",
   "execution_count": 64,
   "id": "3f3c1c7d-a2f0-4424-9d45-3ebc1404e8da",
   "metadata": {},
   "outputs": [],
   "source": [
    "def train_linear_regression_reg(X, y, r=0.0):\n",
    "    ones = np.ones(X.shape[0])\n",
    "    X = np.column_stack([ones, X])\n",
    "\n",
    "    XTX = X.T.dot(X)\n",
    "    reg = r * np.eye(XTX.shape[0])\n",
    "    XTX = XTX + reg\n",
    "\n",
    "    XTX_inv = np.linalg.inv(XTX)\n",
    "    w = XTX_inv.dot(X.T).dot(y)\n",
    "    \n",
    "    return w[0], w[1:]"
   ]
  },
  {
   "cell_type": "markdown",
   "id": "322e51c2-cbdd-40d9-989a-e3e3754cefb4",
   "metadata": {},
   "source": [
    "# Base"
   ]
  },
  {
   "cell_type": "code",
   "execution_count": 65,
   "id": "e9d0eab3-936d-4154-8555-e3dc556709cf",
   "metadata": {},
   "outputs": [],
   "source": [
    "base = ['engine_displacement', 'horsepower', 'vehicle_weight', 'model_year']"
   ]
  },
  {
   "cell_type": "markdown",
   "id": "ca1287d0-9de4-4fa0-b3cd-c36e779db67e",
   "metadata": {},
   "source": [
    "# Q1 - missing values"
   ]
  },
  {
   "cell_type": "code",
   "execution_count": 66,
   "id": "e7765568-df6f-43a7-acf2-327b19e10462",
   "metadata": {},
   "outputs": [
    {
     "data": {
      "text/plain": [
       "engine_displacement      0\n",
       "num_cylinders          482\n",
       "horsepower             708\n",
       "vehicle_weight           0\n",
       "acceleration           930\n",
       "model_year               0\n",
       "origin                   0\n",
       "fuel_type                0\n",
       "drivetrain               0\n",
       "num_doors              502\n",
       "fuel_efficiency_mpg      0\n",
       "dtype: int64"
      ]
     },
     "execution_count": 66,
     "metadata": {},
     "output_type": "execute_result"
    }
   ],
   "source": [
    "df.isnull().sum()"
   ]
  },
  {
   "cell_type": "markdown",
   "id": "40043539-9284-407d-9877-5e157757568d",
   "metadata": {},
   "source": [
    "# Q2 - horsepower median"
   ]
  },
  {
   "cell_type": "code",
   "execution_count": 67,
   "id": "ae2e7f05-fac1-45c4-8670-914763142c99",
   "metadata": {},
   "outputs": [
    {
     "data": {
      "text/plain": [
       "np.float64(149.0)"
      ]
     },
     "execution_count": 67,
     "metadata": {},
     "output_type": "execute_result"
    }
   ],
   "source": [
    "df['horsepower'].median()"
   ]
  },
  {
   "cell_type": "markdown",
   "id": "737fa718-1ebe-4121-b6c4-a67dc8af6749",
   "metadata": {},
   "source": [
    "# Preparing the dataset"
   ]
  },
  {
   "cell_type": "code",
   "execution_count": 68,
   "id": "86c1074f-8558-4e0f-bc4a-9301cb4dd1e6",
   "metadata": {},
   "outputs": [],
   "source": [
    "np.random.seed(42)\n",
    "n = len(df)\n",
    "n_val = int(0.2 * n)\n",
    "n_test = int(0.2 * n)\n",
    "n_train = n - (n_val + n_test)\n",
    "\n",
    "idx = np.arange(n)\n",
    "np.random.shuffle(idx)\n",
    "\n",
    "df_shuffled = df.iloc[idx]\n",
    "df_train = df_shuffled.iloc[:n_train].copy()\n",
    "df_val = df_shuffled.iloc[n_train:n_train+n_val].copy()\n",
    "df_test = df_shuffled.iloc[n_train+n_val:].copy()"
   ]
  },
  {
   "cell_type": "markdown",
   "id": "1f3004f8-1add-45f8-a344-1ccf3ae83aa9",
   "metadata": {},
   "source": [
    "# Q3 - Mean vs 0's"
   ]
  },
  {
   "cell_type": "markdown",
   "id": "1cd4107a-3d75-412e-951e-d5cb68cef882",
   "metadata": {},
   "source": [
    "### Mean"
   ]
  },
  {
   "cell_type": "code",
   "execution_count": 69,
   "id": "1044eda2",
   "metadata": {},
   "outputs": [],
   "source": [
    "df_train_mean = df_train.copy()\n",
    "df_val_mean = df_val.copy()\n",
    "df_test_mean = df_test.copy()\n",
    "\n",
    "mean_value = df_train_mean['horsepower'].mean()\n",
    "\n",
    "df_train_mean['horsepower'] = df_train_mean['horsepower'].fillna(mean_value)\n",
    "df_val_mean['horsepower'] = df_val_mean['horsepower'].fillna(mean_value)\n",
    "df_test_mean['horsepower'] = df_test_mean['horsepower'].fillna(mean_value)"
   ]
  },
  {
   "cell_type": "code",
   "execution_count": 70,
   "id": "534f9ad6",
   "metadata": {},
   "outputs": [],
   "source": [
    "y_train_mean = df_train_mean.fuel_efficiency_mpg.values\n",
    "y_val_mean = df_val_mean.fuel_efficiency_mpg.values\n",
    "y_test_mean = df_test_mean.fuel_efficiency_mpg.values\n",
    "\n",
    "del df_train_mean['fuel_efficiency_mpg']\n",
    "del df_val_mean['fuel_efficiency_mpg']\n",
    "del df_test_mean['fuel_efficiency_mpg']"
   ]
  },
  {
   "cell_type": "code",
   "execution_count": 71,
   "id": "c468a519-5fca-427c-83f7-26cd64b0db5c",
   "metadata": {},
   "outputs": [
    {
     "name": "stdout",
     "output_type": "stream",
     "text": [
      "mean train: 0.46244121379599645\n"
     ]
    }
   ],
   "source": [
    "X_train_mean = df_train_mean[base].values\n",
    "w_0, w = train_linear_regression(X_train_mean, y_train_mean)\n",
    "y_train_pred_mean = w_0 + X_train_mean.dot(w)\n",
    "print('mean train:', rmse(y_train_mean, y_train_pred_mean))"
   ]
  },
  {
   "cell_type": "code",
   "execution_count": 72,
   "id": "b0301f41-6b4b-402b-bacc-a27d22c75f08",
   "metadata": {},
   "outputs": [
    {
     "name": "stdout",
     "output_type": "stream",
     "text": [
      "validation: 0.4630826400124269\n"
     ]
    }
   ],
   "source": [
    "X_val_mean = df_val_mean[base].values\n",
    "w_0, w = train_linear_regression(X_val_mean, y_val_mean)\n",
    "y_val_pred_mean = w_0 + X_val_mean.dot(w)\n",
    "print('validation:', rmse(y_val_mean, y_val_pred_mean))"
   ]
  },
  {
   "cell_type": "code",
   "execution_count": 73,
   "id": "116295b4-ab9b-4860-a03b-905faf33ecfc",
   "metadata": {},
   "outputs": [
    {
     "name": "stdout",
     "output_type": "stream",
     "text": [
      "0.46\n"
     ]
    }
   ],
   "source": [
    "rmse_train_mean = rmse(y_train_mean, y_train_pred_mean)\n",
    "print(round(rmse_train_mean,2))"
   ]
  },
  {
   "cell_type": "code",
   "execution_count": 74,
   "id": "5b7c9cfa-0b4c-4b58-96cd-bafadc476c8c",
   "metadata": {},
   "outputs": [
    {
     "name": "stdout",
     "output_type": "stream",
     "text": [
      "0.46\n"
     ]
    }
   ],
   "source": [
    "rmse_val_mean = rmse(y_val_mean, y_val_pred_mean)\n",
    "print(round(rmse_val_mean,2))"
   ]
  },
  {
   "cell_type": "markdown",
   "id": "1cf68e1d-f811-4837-9d55-b1bf22be2b97",
   "metadata": {},
   "source": [
    "### 0's"
   ]
  },
  {
   "cell_type": "code",
   "execution_count": 75,
   "id": "c55935d9-f9cd-4a8f-a6ab-73ebc6b59a15",
   "metadata": {},
   "outputs": [],
   "source": [
    "df_train_mode = df_train.copy()\n",
    "df_val_mode = df_val.copy()\n",
    "df_test_mode = df_test.copy()\n",
    "\n",
    "df_train_mode['horsepower'] = df_train_mode['horsepower'].fillna(0)\n",
    "df_val_mode['horsepower'] = df_val_mode['horsepower'].fillna(0)\n",
    "df_test_mode['horsepower'] = df_test_mode['horsepower'].fillna(0)"
   ]
  },
  {
   "cell_type": "code",
   "execution_count": 76,
   "id": "1d1f53bb-079f-4700-af52-a900cbd6804c",
   "metadata": {},
   "outputs": [],
   "source": [
    "y_train_mode = df_train_mode.fuel_efficiency_mpg.values\n",
    "y_val_mode = df_val_mode.fuel_efficiency_mpg.values\n",
    "y_test_mode = df_test_mode.fuel_efficiency_mpg.values\n",
    "\n",
    "del df_train_mode['fuel_efficiency_mpg']\n",
    "del df_val_mode['fuel_efficiency_mpg']\n",
    "del df_test_mode['fuel_efficiency_mpg']"
   ]
  },
  {
   "cell_type": "code",
   "execution_count": 77,
   "id": "8ceb92ce-2f2f-465f-a929-be0f97cd5c69",
   "metadata": {},
   "outputs": [],
   "source": [
    "X_train_mode = df_train_mode[base].values\n",
    "w_0, w = train_linear_regression(X_train_mode, y_train_mode)\n",
    "y_train_pred_mode = w_0 + X_train_mode.dot(w)"
   ]
  },
  {
   "cell_type": "code",
   "execution_count": 78,
   "id": "6dfda63f-286d-468d-b12c-1d1bdee6a2fc",
   "metadata": {},
   "outputs": [],
   "source": [
    "X_val_mode = df_val_mode[base].values\n",
    "w_0, w = train_linear_regression(X_val_mode, y_val_mode)\n",
    "y_val_pred_mode = w_0 + X_val_mode.dot(w)"
   ]
  },
  {
   "cell_type": "code",
   "execution_count": 79,
   "id": "46e31ef6-6c08-410f-abe6-bc7da0f6f77c",
   "metadata": {},
   "outputs": [
    {
     "name": "stdout",
     "output_type": "stream",
     "text": [
      "mode train:\n",
      "0.52\n"
     ]
    }
   ],
   "source": [
    "rmse_train_mode = rmse(y_train_mode, y_train_pred_mode)\n",
    "print('mode train:')\n",
    "print(round(rmse_train_mode,2))"
   ]
  },
  {
   "cell_type": "code",
   "execution_count": 80,
   "id": "66c6a0fb-f69e-4975-965e-342806e62f47",
   "metadata": {},
   "outputs": [
    {
     "name": "stdout",
     "output_type": "stream",
     "text": [
      "validation:\n",
      "0.52\n"
     ]
    }
   ],
   "source": [
    "rmse_val_mode = rmse(y_val_mode, y_val_pred_mode)\n",
    "print('validation:')\n",
    "print(round(rmse_val_mode,2))"
   ]
  },
  {
   "cell_type": "markdown",
   "id": "3cd54e9e-811c-4ec2-a6c6-3887550154dd",
   "metadata": {},
   "source": [
    "# Q4"
   ]
  },
  {
   "cell_type": "code",
   "execution_count": 81,
   "id": "b445a49c-0069-4d53-a4d8-6f66159d4f88",
   "metadata": {},
   "outputs": [],
   "source": [
    "df_train_q4 = df_train.copy()\n",
    "df_val_q4 = df_val.copy()\n",
    "df_test_q4 = df_test.copy()\n",
    "\n",
    "y_train_q4 = df_train_q4.fuel_efficiency_mpg.values\n",
    "y_val_q4 = df_val_q4.fuel_efficiency_mpg.values\n",
    "y_test_q4 = df_test_q4.fuel_efficiency_mpg.values\n",
    "\n",
    "del df_train_q4['fuel_efficiency_mpg']\n",
    "del df_val_q4['fuel_efficiency_mpg']\n",
    "del df_test_q4['fuel_efficiency_mpg']"
   ]
  },
  {
   "cell_type": "code",
   "execution_count": 82,
   "id": "ee125e1c-42bc-4594-9098-03a07adb8b30",
   "metadata": {},
   "outputs": [],
   "source": [
    "X_train_q4 = prepare_X(df_train_q4)\n",
    "w_0, w = train_linear_regression(X_train_q4, y_train_q4)\n",
    "y_train_pred_q4 = w_0 + X_train_q4.dot(w)"
   ]
  },
  {
   "cell_type": "code",
   "execution_count": 83,
   "id": "4a7061c9-5b23-41fd-b6a4-5d323b4fcaf6",
   "metadata": {},
   "outputs": [],
   "source": [
    "X_val_q4 = prepare_X(df_val_q4)\n",
    "w_0, w = train_linear_regression(X_val_q4, y_val_q4)\n",
    "y_val_pred_q4 = w_0 + X_val_q4.dot(w)"
   ]
  },
  {
   "cell_type": "code",
   "execution_count": 84,
   "id": "6f37f3ad-f167-4a07-960b-980904d698bd",
   "metadata": {},
   "outputs": [
    {
     "name": "stdout",
     "output_type": "stream",
     "text": [
      "mode train:\n",
      "0.52\n"
     ]
    }
   ],
   "source": [
    "rmse_train_q4 = rmse(y_train_q4, y_train_pred_q4)\n",
    "print('mode train:')\n",
    "print(round(rmse_train_q4,2))"
   ]
  },
  {
   "cell_type": "code",
   "execution_count": 85,
   "id": "8d06b4ac-caa4-4629-866f-18e3814c627e",
   "metadata": {},
   "outputs": [
    {
     "name": "stdout",
     "output_type": "stream",
     "text": [
      "validation:\n",
      "0.52\n"
     ]
    }
   ],
   "source": [
    "rmse_val_q4 = rmse(y_val_q4, y_val_pred_q4)\n",
    "print('validation:')\n",
    "print(round(rmse_val_q4,2))"
   ]
  },
  {
   "cell_type": "code",
   "execution_count": 86,
   "id": "4dc5dad6-156d-4cbc-859a-3eaed945b0a5",
   "metadata": {},
   "outputs": [
    {
     "name": "stdout",
     "output_type": "stream",
     "text": [
      " 1e-06 0.5173782142044917\n",
      "0.0001 0.5173733251299506\n",
      " 0.001 0.5173314578308275\n",
      "  0.01 0.5171115525775559\n",
      "   0.1 0.5187525130701629\n",
      "     1 0.5222348802092528\n",
      "     5 0.5228916092823455\n",
      "    10 0.5229812979636569\n"
     ]
    }
   ],
   "source": [
    "X_train_q4 = prepare_X(df_train_q4)\n",
    "X_val_q4 = prepare_X(df_val_q4)\n",
    "\n",
    "for r in [0.000001, 0.0001, 0.001, 0.01, 0.1, 1, 5, 10]:\n",
    "    w_0, w = train_linear_regression_reg(X_train_q4, y_train_q4, r=r)\n",
    "    y_pred_q4 = w_0 + X_val_q4.dot(w)\n",
    "    print('%6s' %r, rmse(y_val_q4, y_pred_q4))"
   ]
  },
  {
   "cell_type": "markdown",
   "id": "9164b3ff-28e9-4276-94f9-4a2b677889dc",
   "metadata": {},
   "source": [
    "# Q5"
   ]
  },
  {
   "cell_type": "code",
   "execution_count": 87,
   "id": "d2effc73-786a-4c9e-ad53-45d9dc904c3c",
   "metadata": {},
   "outputs": [
    {
     "name": "stdout",
     "output_type": "stream",
     "text": [
      "     0 0.5206531296297207\n",
      "     1 0.5213388912866506\n",
      "     2 0.5228069974913666\n",
      "     3 0.5159516741255491\n",
      "     4 0.5109129460116937\n",
      "     5 0.5283406460212935\n",
      "     6 0.5313910658190373\n",
      "     7 0.509067038739038\n",
      "     8 0.5147399129482789\n",
      "     9 0.513186590829269\n",
      "\n",
      " Standard deviation RMSE: 0.007\n"
     ]
    }
   ],
   "source": [
    "rmse_values = []\n",
    "for seed in [0, 1, 2, 3, 4, 5, 6, 7, 8, 9]:\n",
    "    np.random.seed(seed)\n",
    "    n = len(df)\n",
    "    n_val = int(0.2 * n)\n",
    "    n_test = int(0.2 * n)\n",
    "    n_train = n - (n_val + n_test)\n",
    "    \n",
    "    idx = np.arange(n)\n",
    "    np.random.shuffle(idx)\n",
    "    \n",
    "    df_shuffled = df.iloc[idx]\n",
    "    df_train = df_shuffled.iloc[:n_train].copy()\n",
    "    df_val = df_shuffled.iloc[n_train:n_train+n_val].copy()\n",
    "    df_test = df_shuffled.iloc[n_train+n_val:].copy()\n",
    "    \n",
    "    df_train_q5 = df_train.copy()\n",
    "    df_val_q5 = df_val.copy()\n",
    "    df_test_q5 = df_test.copy()\n",
    "    \n",
    "    y_train_q5 = df_train_q5.fuel_efficiency_mpg.values\n",
    "    y_val_q5 = df_val_q5.fuel_efficiency_mpg.values\n",
    "    y_test_q5 = df_test_q5.fuel_efficiency_mpg.values\n",
    "    \n",
    "    del df_train_q5['fuel_efficiency_mpg']\n",
    "    del df_val_q5['fuel_efficiency_mpg']\n",
    "    del df_test_q5['fuel_efficiency_mpg']\n",
    "    \n",
    "    X_train_q5 = prepare_X(df_train_q5)\n",
    "    X_val_q5 = prepare_X(df_val_q5)\n",
    "    w_0, w = train_linear_regression(X_train_q5, y_train_q5)\n",
    "    y_pred_q5 = w_0 + X_val_q5.dot(w)\n",
    "    rmse_value = rmse(y_val_q5, y_pred_q5)\n",
    "    rmse_values.append(rmse_value)\n",
    "    print('%6s' %seed, rmse_value)\n",
    "\n",
    "std_dev = np.std(rmse_values)\n",
    "print(f'\\n Standard deviation RMSE: {round(std_dev, 3)}')"
   ]
  },
  {
   "cell_type": "markdown",
   "id": "64886e0e-ae6e-45d7-9b65-0d9cc6bb452c",
   "metadata": {},
   "source": [
    "# Q6"
   ]
  },
  {
   "cell_type": "code",
   "execution_count": 88,
   "id": "633cd33d-65ed-4fd3-92df-c2bc91062e51",
   "metadata": {},
   "outputs": [
    {
     "name": "stdout",
     "output_type": "stream",
     "text": [
      "RMSE:  0.516\n"
     ]
    }
   ],
   "source": [
    "np.random.seed(9)\n",
    "n = len(df)\n",
    "\n",
    "n_test = int(0.2 * n)\n",
    "n_train = n - n_test\n",
    "\n",
    "idx = np.arange(n)\n",
    "np.random.shuffle(idx)\n",
    "\n",
    "df_shuffled = df.iloc[idx]\n",
    "df_train = df_shuffled.iloc[:n_train].copy()\n",
    "df_test = df_shuffled.iloc[n_train:].copy()\n",
    "\n",
    "df_train_q6 = df_train.copy()\n",
    "df_test_q6 = df_test.copy()\n",
    "\n",
    "y_train_q6 = df_train_q6.fuel_efficiency_mpg.values\n",
    "y_test_q6 = df_test_q6.fuel_efficiency_mpg.values\n",
    "\n",
    "del df_train_q6['fuel_efficiency_mpg']\n",
    "del df_test_q6['fuel_efficiency_mpg']\n",
    "\n",
    "X_train_q6 = prepare_X(df_train_q6)\n",
    "X_test_q6 = prepare_X(df_test_q6)\n",
    "w_0, w = train_linear_regression_reg(X_train_q6, y_train_q6, r=0.001)\n",
    "y_pred_q6 = w_0 + X_test_q6.dot(w)\n",
    "rmse_value = rmse(y_test_q6, y_pred_q6)\n",
    "print('RMSE: ', round(rmse_value, 3))"
   ]
  },
  {
   "cell_type": "code",
   "execution_count": null,
   "id": "069e3593-769a-4941-9be8-caa8f39febef",
   "metadata": {},
   "outputs": [],
   "source": []
  }
 ],
 "metadata": {
  "kernelspec": {
   "display_name": "Python 3 (ipykernel)",
   "language": "python",
   "name": "python3"
  },
  "language_info": {
   "codemirror_mode": {
    "name": "ipython",
    "version": 3
   },
   "file_extension": ".py",
   "mimetype": "text/x-python",
   "name": "python",
   "nbconvert_exporter": "python",
   "pygments_lexer": "ipython3",
   "version": "3.12.2"
  }
 },
 "nbformat": 4,
 "nbformat_minor": 5
}
